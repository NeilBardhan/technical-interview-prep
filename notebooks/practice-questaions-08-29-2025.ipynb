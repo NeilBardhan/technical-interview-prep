{
 "cells": [
  {
   "cell_type": "markdown",
   "id": "ba7c3420-7098-4b1f-8db8-8c581761634d",
   "metadata": {},
   "source": [
    "# Practice Questions - 08-29-2025"
   ]
  },
  {
   "cell_type": "code",
   "execution_count": 5,
   "id": "d32fb573-95ec-4ea1-aeed-ab14d08449f5",
   "metadata": {},
   "outputs": [],
   "source": [
    "import os\n",
    "import sqlite3\n",
    "import pandas as pd"
   ]
  },
  {
   "cell_type": "code",
   "execution_count": 2,
   "id": "99875c7c-806d-43cb-ab1e-4d6f26fb3d02",
   "metadata": {},
   "outputs": [
    {
     "data": {
      "text/plain": [
       "'/Users/neilbardhan/Documents/python-projects/technical-interview-prep/data/notebooks'"
      ]
     },
     "execution_count": 2,
     "metadata": {},
     "output_type": "execute_result"
    }
   ],
   "source": [
    "os.getcwd()"
   ]
  },
  {
   "cell_type": "code",
   "execution_count": 4,
   "id": "0e20f837-e142-4a8a-a7fa-06f2911d9eb0",
   "metadata": {},
   "outputs": [],
   "source": [
    "os.chdir('..')"
   ]
  },
  {
   "cell_type": "markdown",
   "id": "f9dcc530-3bfd-43dc-a834-3b28a6bfe7f3",
   "metadata": {},
   "source": [
    "## Connect to Database"
   ]
  },
  {
   "cell_type": "code",
   "execution_count": 7,
   "id": "dfc18eed-058e-445b-8f9d-e7eb68e980f5",
   "metadata": {},
   "outputs": [],
   "source": [
    "def print_tables(connection):\n",
    "    cursor = connection.cursor()\n",
    "    cursor.execute(\"SELECT name FROM sqlite_master WHERE type='table';\")\n",
    "    tables = cursor.fetchall()\n",
    "    print(tables)\n",
    "    cursor.close()"
   ]
  },
  {
   "cell_type": "code",
   "execution_count": 10,
   "id": "fbc36e5b-6109-4101-ada2-a76765844836",
   "metadata": {},
   "outputs": [],
   "source": [
    "DB_NAME = 'ecommerce.db'\n",
    "DB_PATH = \"{}/{}\".format(os.getcwd(), \"datasets/\")\n",
    "db_file_path = \"{}{}\".format(DB_PATH, DB_NAME)"
   ]
  },
  {
   "cell_type": "code",
   "execution_count": 12,
   "id": "f70d30e8-c14a-4cff-a76b-b6cc3f487d91",
   "metadata": {},
   "outputs": [
    {
     "name": "stdout",
     "output_type": "stream",
     "text": [
      "[('customer',), ('product',), ('transactions',), ('transaction_items',), ('reviews',)]\n"
     ]
    }
   ],
   "source": [
    "if os.path.isfile(db_file_path):\n",
    "    connection = sqlite3.connect(db_file_path)\n",
    "    print_tables(connection)"
   ]
  },
  {
   "cell_type": "markdown",
   "id": "9f9c081d-0ea9-4341-b8e1-574e2f761452",
   "metadata": {},
   "source": [
    "### Print Schemas of Tables"
   ]
  },
  {
   "cell_type": "code",
   "execution_count": 37,
   "id": "60610c73-5f63-4220-8444-c49e042cd10f",
   "metadata": {},
   "outputs": [],
   "source": [
    "def get_table_schema(connection, table_name):\n",
    "    pragma_query = \"PRAGMA table_info({});\".format(table_name)\n",
    "    print(pragma_query)\n",
    "    cursor = connection.cursor()\n",
    "    cursor.execute(pragma_query)\n",
    "    pragma_info = cursor.fetchall()\n",
    "    for row in pragma_info:\n",
    "        print(\"{}:\\t{}\".format(row[1], row[2]))\n",
    "    cursor.close()"
   ]
  },
  {
   "cell_type": "code",
   "execution_count": 43,
   "id": "51eb9f34-b418-4394-b479-19118a50808a",
   "metadata": {},
   "outputs": [
    {
     "name": "stdout",
     "output_type": "stream",
     "text": [
      "PRAGMA table_info(customer);\n",
      "customer_id:\tINTEGER\n",
      "name:\tTEXT\n",
      "email:\tTEXT\n",
      "signup_date:\tTEXT\n",
      "country:\tTEXT\n"
     ]
    }
   ],
   "source": [
    "get_table_schema(connection, \"customer\")"
   ]
  },
  {
   "cell_type": "code",
   "execution_count": 44,
   "id": "144a7560-a9d9-4694-b0e5-23d12db5cbfd",
   "metadata": {},
   "outputs": [
    {
     "name": "stdout",
     "output_type": "stream",
     "text": [
      "PRAGMA table_info(product);\n",
      "product_id:\tINTEGER\n",
      "name:\tTEXT\n",
      "category:\tTEXT\n",
      "price:\tREAL\n"
     ]
    }
   ],
   "source": [
    "get_table_schema(connection, \"product\")"
   ]
  },
  {
   "cell_type": "code",
   "execution_count": 45,
   "id": "90fad321-dffc-40d2-bd96-f98650e1ebfc",
   "metadata": {},
   "outputs": [
    {
     "name": "stdout",
     "output_type": "stream",
     "text": [
      "PRAGMA table_info(transactions);\n",
      "order_id:\tINTEGER\n",
      "customer_id:\tINTEGER\n",
      "order_date:\tTEXT\n",
      "total_amount:\tREAL\n"
     ]
    }
   ],
   "source": [
    "get_table_schema(connection, \"transactions\")"
   ]
  },
  {
   "cell_type": "code",
   "execution_count": 47,
   "id": "9e5ee91f-1795-400a-8b2f-8234bcc2428a",
   "metadata": {},
   "outputs": [
    {
     "name": "stdout",
     "output_type": "stream",
     "text": [
      "PRAGMA table_info(transaction_items);\n",
      "order_item_id:\tINTEGER\n",
      "order_id:\tINTEGER\n",
      "product_id:\tINTEGER\n",
      "quantity:\tINTEGER\n",
      "item_price:\tREAL\n"
     ]
    }
   ],
   "source": [
    "get_table_schema(connection, \"transaction_items\")"
   ]
  },
  {
   "cell_type": "code",
   "execution_count": 48,
   "id": "0a948424-2bfa-4af8-acc6-583fd3cf74dc",
   "metadata": {},
   "outputs": [
    {
     "name": "stdout",
     "output_type": "stream",
     "text": [
      "PRAGMA table_info(reviews);\n",
      "review_id:\tINTEGER\n",
      "order_id:\tINTEGER\n",
      "product_id:\tINTEGER\n",
      "rating:\tINTEGER\n",
      "review_date:\tTEXT\n"
     ]
    }
   ],
   "source": [
    "get_table_schema(connection, \"reviews\")"
   ]
  },
  {
   "cell_type": "markdown",
   "id": "b476928b-4d15-4ade-acb3-845c98ac7f49",
   "metadata": {},
   "source": [
    "## Practice Questions"
   ]
  },
  {
   "cell_type": "code",
   "execution_count": 49,
   "id": "e62353f2-4cce-4fea-af3d-e410570bbaa9",
   "metadata": {},
   "outputs": [],
   "source": [
    "def query_runner(connection, query):\n",
    "    query_df = pd.read_sql_query(query, connection)\n",
    "    return query_df"
   ]
  },
  {
   "cell_type": "code",
   "execution_count": 50,
   "id": "45ff7a2e-fc25-4d8e-b91b-78808d154d2f",
   "metadata": {},
   "outputs": [
    {
     "data": {
      "text/html": [
       "<div>\n",
       "<style scoped>\n",
       "    .dataframe tbody tr th:only-of-type {\n",
       "        vertical-align: middle;\n",
       "    }\n",
       "\n",
       "    .dataframe tbody tr th {\n",
       "        vertical-align: top;\n",
       "    }\n",
       "\n",
       "    .dataframe thead th {\n",
       "        text-align: right;\n",
       "    }\n",
       "</style>\n",
       "<table border=\"1\" class=\"dataframe\">\n",
       "  <thead>\n",
       "    <tr style=\"text-align: right;\">\n",
       "      <th></th>\n",
       "      <th>customer_id</th>\n",
       "      <th>name</th>\n",
       "      <th>email</th>\n",
       "      <th>signup_date</th>\n",
       "      <th>country</th>\n",
       "    </tr>\n",
       "  </thead>\n",
       "  <tbody>\n",
       "    <tr>\n",
       "      <th>0</th>\n",
       "      <td>1</td>\n",
       "      <td>Raymond Conley</td>\n",
       "      <td>vking@example.com</td>\n",
       "      <td>2025-03-14</td>\n",
       "      <td>Malaysia</td>\n",
       "    </tr>\n",
       "    <tr>\n",
       "      <th>1</th>\n",
       "      <td>2</td>\n",
       "      <td>Robert Andersen</td>\n",
       "      <td>crystal34@example.org</td>\n",
       "      <td>2024-03-14</td>\n",
       "      <td>Niger</td>\n",
       "    </tr>\n",
       "    <tr>\n",
       "      <th>2</th>\n",
       "      <td>3</td>\n",
       "      <td>Jody Martinez</td>\n",
       "      <td>jlane@example.com</td>\n",
       "      <td>2023-12-15</td>\n",
       "      <td>Jamaica</td>\n",
       "    </tr>\n",
       "    <tr>\n",
       "      <th>3</th>\n",
       "      <td>4</td>\n",
       "      <td>Kenneth Shepherd</td>\n",
       "      <td>kimberlypeters@example.net</td>\n",
       "      <td>2023-07-25</td>\n",
       "      <td>Peru</td>\n",
       "    </tr>\n",
       "    <tr>\n",
       "      <th>4</th>\n",
       "      <td>5</td>\n",
       "      <td>Carolyn Taylor</td>\n",
       "      <td>joshua08@example.org</td>\n",
       "      <td>2025-03-13</td>\n",
       "      <td>Mayotte</td>\n",
       "    </tr>\n",
       "  </tbody>\n",
       "</table>\n",
       "</div>"
      ],
      "text/plain": [
       "   customer_id              name                       email signup_date  \\\n",
       "0            1    Raymond Conley           vking@example.com  2025-03-14   \n",
       "1            2   Robert Andersen       crystal34@example.org  2024-03-14   \n",
       "2            3     Jody Martinez           jlane@example.com  2023-12-15   \n",
       "3            4  Kenneth Shepherd  kimberlypeters@example.net  2023-07-25   \n",
       "4            5    Carolyn Taylor        joshua08@example.org  2025-03-13   \n",
       "\n",
       "    country  \n",
       "0  Malaysia  \n",
       "1     Niger  \n",
       "2   Jamaica  \n",
       "3      Peru  \n",
       "4   Mayotte  "
      ]
     },
     "execution_count": 50,
     "metadata": {},
     "output_type": "execute_result"
    }
   ],
   "source": [
    "customer_table_all_query = \"\"\"\n",
    "SELECT *\n",
    "FROM customer;\n",
    "\"\"\"\n",
    "query_results_df = query_runner(connection, customer_table_all_query)\n",
    "query_results_df.head()"
   ]
  },
  {
   "cell_type": "markdown",
   "id": "bbd69e7c-d5f4-4c1d-be04-768c3622049e",
   "metadata": {},
   "source": [
    "### List the first 10 customers who signed up in 2022. Show `customer_id, name, signup_date`."
   ]
  },
  {
   "cell_type": "code",
   "execution_count": 54,
   "id": "ff6a331f-9d9e-44e0-885f-55c358680014",
   "metadata": {},
   "outputs": [
    {
     "data": {
      "text/html": [
       "<div>\n",
       "<style scoped>\n",
       "    .dataframe tbody tr th:only-of-type {\n",
       "        vertical-align: middle;\n",
       "    }\n",
       "\n",
       "    .dataframe tbody tr th {\n",
       "        vertical-align: top;\n",
       "    }\n",
       "\n",
       "    .dataframe thead th {\n",
       "        text-align: right;\n",
       "    }\n",
       "</style>\n",
       "<table border=\"1\" class=\"dataframe\">\n",
       "  <thead>\n",
       "    <tr style=\"text-align: right;\">\n",
       "      <th></th>\n",
       "      <th>signup_date</th>\n",
       "      <th>typeof(signup_date)</th>\n",
       "    </tr>\n",
       "  </thead>\n",
       "  <tbody>\n",
       "    <tr>\n",
       "      <th>0</th>\n",
       "      <td>2025-03-14</td>\n",
       "      <td>text</td>\n",
       "    </tr>\n",
       "    <tr>\n",
       "      <th>1</th>\n",
       "      <td>2024-03-14</td>\n",
       "      <td>text</td>\n",
       "    </tr>\n",
       "    <tr>\n",
       "      <th>2</th>\n",
       "      <td>2023-12-15</td>\n",
       "      <td>text</td>\n",
       "    </tr>\n",
       "    <tr>\n",
       "      <th>3</th>\n",
       "      <td>2023-07-25</td>\n",
       "      <td>text</td>\n",
       "    </tr>\n",
       "    <tr>\n",
       "      <th>4</th>\n",
       "      <td>2025-03-13</td>\n",
       "      <td>text</td>\n",
       "    </tr>\n",
       "  </tbody>\n",
       "</table>\n",
       "</div>"
      ],
      "text/plain": [
       "  signup_date typeof(signup_date)\n",
       "0  2025-03-14                text\n",
       "1  2024-03-14                text\n",
       "2  2023-12-15                text\n",
       "3  2023-07-25                text\n",
       "4  2025-03-13                text"
      ]
     },
     "execution_count": 54,
     "metadata": {},
     "output_type": "execute_result"
    }
   ],
   "source": [
    "sql_query = \"\"\"\n",
    "SELECT signup_date, typeof(signup_date)\n",
    "FROM customer;\n",
    "\"\"\"\n",
    "query_results_df = query_runner(connection, sql_query)\n",
    "query_results_df.head()"
   ]
  },
  {
   "cell_type": "code",
   "execution_count": null,
   "id": "f0ec5ab6-5be7-4a4a-ba97-82c4327d0e0e",
   "metadata": {},
   "outputs": [],
   "source": []
  }
 ],
 "metadata": {
  "kernelspec": {
   "display_name": "technical-interview-prep-pandas",
   "language": "python",
   "name": ".venv"
  },
  "language_info": {
   "codemirror_mode": {
    "name": "ipython",
    "version": 3
   },
   "file_extension": ".py",
   "mimetype": "text/x-python",
   "name": "python",
   "nbconvert_exporter": "python",
   "pygments_lexer": "ipython3",
   "version": "3.11.6"
  }
 },
 "nbformat": 4,
 "nbformat_minor": 5
}
