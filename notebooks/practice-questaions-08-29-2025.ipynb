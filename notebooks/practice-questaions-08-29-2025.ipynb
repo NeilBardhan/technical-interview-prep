{
 "cells": [
  {
   "cell_type": "markdown",
   "id": "ba7c3420-7098-4b1f-8db8-8c581761634d",
   "metadata": {},
   "source": [
    "# Practice Questions - 08-29-2025"
   ]
  },
  {
   "cell_type": "code",
   "execution_count": 1,
   "id": "d32fb573-95ec-4ea1-aeed-ab14d08449f5",
   "metadata": {},
   "outputs": [],
   "source": [
    "import os\n",
    "import sqlite3\n",
    "import pandas as pd"
   ]
  },
  {
   "cell_type": "code",
   "execution_count": 2,
   "id": "99875c7c-806d-43cb-ab1e-4d6f26fb3d02",
   "metadata": {},
   "outputs": [
    {
     "data": {
      "text/plain": [
       "'/Users/neilbardhan/Documents/python-projects/technical-interview-prep/data/notebooks'"
      ]
     },
     "execution_count": 2,
     "metadata": {},
     "output_type": "execute_result"
    }
   ],
   "source": [
    "os.getcwd()"
   ]
  },
  {
   "cell_type": "code",
   "execution_count": 3,
   "id": "0e20f837-e142-4a8a-a7fa-06f2911d9eb0",
   "metadata": {},
   "outputs": [],
   "source": [
    "os.chdir('..')"
   ]
  },
  {
   "cell_type": "markdown",
   "id": "f9dcc530-3bfd-43dc-a834-3b28a6bfe7f3",
   "metadata": {},
   "source": [
    "## Connect to Database"
   ]
  },
  {
   "cell_type": "code",
   "execution_count": 4,
   "id": "dfc18eed-058e-445b-8f9d-e7eb68e980f5",
   "metadata": {},
   "outputs": [],
   "source": [
    "def print_tables(connection):\n",
    "    cursor = connection.cursor()\n",
    "    cursor.execute(\"SELECT name FROM sqlite_master WHERE type='table';\")\n",
    "    tables = cursor.fetchall()\n",
    "    print(tables)\n",
    "    cursor.close()"
   ]
  },
  {
   "cell_type": "code",
   "execution_count": 5,
   "id": "fbc36e5b-6109-4101-ada2-a76765844836",
   "metadata": {},
   "outputs": [],
   "source": [
    "DB_NAME = 'ecommerce.db'\n",
    "DB_PATH = \"{}/{}\".format(os.getcwd(), \"datasets/\")\n",
    "db_file_path = \"{}{}\".format(DB_PATH, DB_NAME)"
   ]
  },
  {
   "cell_type": "code",
   "execution_count": 6,
   "id": "f70d30e8-c14a-4cff-a76b-b6cc3f487d91",
   "metadata": {},
   "outputs": [
    {
     "name": "stdout",
     "output_type": "stream",
     "text": [
      "[('customer',), ('product',), ('transactions',), ('transaction_items',), ('reviews',)]\n"
     ]
    }
   ],
   "source": [
    "if os.path.isfile(db_file_path):\n",
    "    connection = sqlite3.connect(db_file_path)\n",
    "    print_tables(connection)"
   ]
  },
  {
   "cell_type": "markdown",
   "id": "9f9c081d-0ea9-4341-b8e1-574e2f761452",
   "metadata": {},
   "source": [
    "### Print Schemas of Tables"
   ]
  },
  {
   "cell_type": "code",
   "execution_count": 7,
   "id": "60610c73-5f63-4220-8444-c49e042cd10f",
   "metadata": {},
   "outputs": [],
   "source": [
    "def get_table_schema(connection, table_name):\n",
    "    pragma_query = \"PRAGMA table_info({});\".format(table_name)\n",
    "    print(pragma_query)\n",
    "    cursor = connection.cursor()\n",
    "    cursor.execute(pragma_query)\n",
    "    pragma_info = cursor.fetchall()\n",
    "    for row in pragma_info:\n",
    "        print(\"{}:\\t{}\".format(row[1], row[2]))\n",
    "    cursor.close()"
   ]
  },
  {
   "cell_type": "code",
   "execution_count": 8,
   "id": "51eb9f34-b418-4394-b479-19118a50808a",
   "metadata": {},
   "outputs": [
    {
     "name": "stdout",
     "output_type": "stream",
     "text": [
      "PRAGMA table_info(customer);\n",
      "customer_id:\tINTEGER\n",
      "name:\tTEXT\n",
      "email:\tTEXT\n",
      "signup_date:\tTEXT\n",
      "country:\tTEXT\n"
     ]
    }
   ],
   "source": [
    "get_table_schema(connection, \"customer\")"
   ]
  },
  {
   "cell_type": "code",
   "execution_count": 9,
   "id": "144a7560-a9d9-4694-b0e5-23d12db5cbfd",
   "metadata": {},
   "outputs": [
    {
     "name": "stdout",
     "output_type": "stream",
     "text": [
      "PRAGMA table_info(product);\n",
      "product_id:\tINTEGER\n",
      "name:\tTEXT\n",
      "category:\tTEXT\n",
      "price:\tREAL\n"
     ]
    }
   ],
   "source": [
    "get_table_schema(connection, \"product\")"
   ]
  },
  {
   "cell_type": "code",
   "execution_count": 10,
   "id": "90fad321-dffc-40d2-bd96-f98650e1ebfc",
   "metadata": {},
   "outputs": [
    {
     "name": "stdout",
     "output_type": "stream",
     "text": [
      "PRAGMA table_info(transactions);\n",
      "order_id:\tINTEGER\n",
      "customer_id:\tINTEGER\n",
      "order_date:\tTEXT\n",
      "total_amount:\tREAL\n"
     ]
    }
   ],
   "source": [
    "get_table_schema(connection, \"transactions\")"
   ]
  },
  {
   "cell_type": "code",
   "execution_count": 11,
   "id": "9e5ee91f-1795-400a-8b2f-8234bcc2428a",
   "metadata": {},
   "outputs": [
    {
     "name": "stdout",
     "output_type": "stream",
     "text": [
      "PRAGMA table_info(transaction_items);\n",
      "order_item_id:\tINTEGER\n",
      "order_id:\tINTEGER\n",
      "product_id:\tINTEGER\n",
      "quantity:\tINTEGER\n",
      "item_price:\tREAL\n"
     ]
    }
   ],
   "source": [
    "get_table_schema(connection, \"transaction_items\")"
   ]
  },
  {
   "cell_type": "code",
   "execution_count": 12,
   "id": "0a948424-2bfa-4af8-acc6-583fd3cf74dc",
   "metadata": {},
   "outputs": [
    {
     "name": "stdout",
     "output_type": "stream",
     "text": [
      "PRAGMA table_info(reviews);\n",
      "review_id:\tINTEGER\n",
      "order_id:\tINTEGER\n",
      "product_id:\tINTEGER\n",
      "rating:\tINTEGER\n",
      "review_date:\tTEXT\n"
     ]
    }
   ],
   "source": [
    "get_table_schema(connection, \"reviews\")"
   ]
  },
  {
   "cell_type": "markdown",
   "id": "b476928b-4d15-4ade-acb3-845c98ac7f49",
   "metadata": {},
   "source": [
    "## Practice Questions"
   ]
  },
  {
   "cell_type": "code",
   "execution_count": 13,
   "id": "e62353f2-4cce-4fea-af3d-e410570bbaa9",
   "metadata": {},
   "outputs": [],
   "source": [
    "def query_runner(connection, query):\n",
    "    query_df = pd.read_sql_query(query, connection)\n",
    "    return query_df"
   ]
  },
  {
   "cell_type": "code",
   "execution_count": 14,
   "id": "45ff7a2e-fc25-4d8e-b91b-78808d154d2f",
   "metadata": {},
   "outputs": [
    {
     "data": {
      "text/html": [
       "<div>\n",
       "<style scoped>\n",
       "    .dataframe tbody tr th:only-of-type {\n",
       "        vertical-align: middle;\n",
       "    }\n",
       "\n",
       "    .dataframe tbody tr th {\n",
       "        vertical-align: top;\n",
       "    }\n",
       "\n",
       "    .dataframe thead th {\n",
       "        text-align: right;\n",
       "    }\n",
       "</style>\n",
       "<table border=\"1\" class=\"dataframe\">\n",
       "  <thead>\n",
       "    <tr style=\"text-align: right;\">\n",
       "      <th></th>\n",
       "      <th>customer_id</th>\n",
       "      <th>name</th>\n",
       "      <th>email</th>\n",
       "      <th>signup_date</th>\n",
       "      <th>country</th>\n",
       "    </tr>\n",
       "  </thead>\n",
       "  <tbody>\n",
       "    <tr>\n",
       "      <th>0</th>\n",
       "      <td>1</td>\n",
       "      <td>Raymond Conley</td>\n",
       "      <td>vking@example.com</td>\n",
       "      <td>2025-03-14</td>\n",
       "      <td>Malaysia</td>\n",
       "    </tr>\n",
       "    <tr>\n",
       "      <th>1</th>\n",
       "      <td>2</td>\n",
       "      <td>Robert Andersen</td>\n",
       "      <td>crystal34@example.org</td>\n",
       "      <td>2024-03-14</td>\n",
       "      <td>Niger</td>\n",
       "    </tr>\n",
       "    <tr>\n",
       "      <th>2</th>\n",
       "      <td>3</td>\n",
       "      <td>Jody Martinez</td>\n",
       "      <td>jlane@example.com</td>\n",
       "      <td>2023-12-15</td>\n",
       "      <td>Jamaica</td>\n",
       "    </tr>\n",
       "    <tr>\n",
       "      <th>3</th>\n",
       "      <td>4</td>\n",
       "      <td>Kenneth Shepherd</td>\n",
       "      <td>kimberlypeters@example.net</td>\n",
       "      <td>2023-07-25</td>\n",
       "      <td>Peru</td>\n",
       "    </tr>\n",
       "    <tr>\n",
       "      <th>4</th>\n",
       "      <td>5</td>\n",
       "      <td>Carolyn Taylor</td>\n",
       "      <td>joshua08@example.org</td>\n",
       "      <td>2025-03-13</td>\n",
       "      <td>Mayotte</td>\n",
       "    </tr>\n",
       "  </tbody>\n",
       "</table>\n",
       "</div>"
      ],
      "text/plain": [
       "   customer_id              name                       email signup_date  \\\n",
       "0            1    Raymond Conley           vking@example.com  2025-03-14   \n",
       "1            2   Robert Andersen       crystal34@example.org  2024-03-14   \n",
       "2            3     Jody Martinez           jlane@example.com  2023-12-15   \n",
       "3            4  Kenneth Shepherd  kimberlypeters@example.net  2023-07-25   \n",
       "4            5    Carolyn Taylor        joshua08@example.org  2025-03-13   \n",
       "\n",
       "    country  \n",
       "0  Malaysia  \n",
       "1     Niger  \n",
       "2   Jamaica  \n",
       "3      Peru  \n",
       "4   Mayotte  "
      ]
     },
     "execution_count": 14,
     "metadata": {},
     "output_type": "execute_result"
    }
   ],
   "source": [
    "customer_table_all_query = \"\"\"\n",
    "SELECT *\n",
    "FROM customer;\n",
    "\"\"\"\n",
    "query_results_df = query_runner(connection, customer_table_all_query)\n",
    "query_results_df.head()"
   ]
  },
  {
   "cell_type": "markdown",
   "id": "bbd69e7c-d5f4-4c1d-be04-768c3622049e",
   "metadata": {},
   "source": [
    "### List the first 10 customers who signed up in 2022. Show `customer_id, name, signup_date`."
   ]
  },
  {
   "cell_type": "code",
   "execution_count": 23,
   "id": "ff6a331f-9d9e-44e0-885f-55c358680014",
   "metadata": {},
   "outputs": [
    {
     "name": "stdout",
     "output_type": "stream",
     "text": [
      "(10, 3)\n"
     ]
    },
    {
     "data": {
      "text/html": [
       "<div>\n",
       "<style scoped>\n",
       "    .dataframe tbody tr th:only-of-type {\n",
       "        vertical-align: middle;\n",
       "    }\n",
       "\n",
       "    .dataframe tbody tr th {\n",
       "        vertical-align: top;\n",
       "    }\n",
       "\n",
       "    .dataframe thead th {\n",
       "        text-align: right;\n",
       "    }\n",
       "</style>\n",
       "<table border=\"1\" class=\"dataframe\">\n",
       "  <thead>\n",
       "    <tr style=\"text-align: right;\">\n",
       "      <th></th>\n",
       "      <th>customer_id</th>\n",
       "      <th>name</th>\n",
       "      <th>signup_date</th>\n",
       "    </tr>\n",
       "  </thead>\n",
       "  <tbody>\n",
       "    <tr>\n",
       "      <th>0</th>\n",
       "      <td>161</td>\n",
       "      <td>Jennifer Collins</td>\n",
       "      <td>2022-08-27</td>\n",
       "    </tr>\n",
       "    <tr>\n",
       "      <th>1</th>\n",
       "      <td>437</td>\n",
       "      <td>Brenda Wheeler</td>\n",
       "      <td>2022-08-27</td>\n",
       "    </tr>\n",
       "    <tr>\n",
       "      <th>2</th>\n",
       "      <td>416</td>\n",
       "      <td>Charles Thompson</td>\n",
       "      <td>2022-08-28</td>\n",
       "    </tr>\n",
       "    <tr>\n",
       "      <th>3</th>\n",
       "      <td>465</td>\n",
       "      <td>Ashley Zimmerman</td>\n",
       "      <td>2022-08-29</td>\n",
       "    </tr>\n",
       "    <tr>\n",
       "      <th>4</th>\n",
       "      <td>364</td>\n",
       "      <td>April Merritt</td>\n",
       "      <td>2022-08-30</td>\n",
       "    </tr>\n",
       "    <tr>\n",
       "      <th>5</th>\n",
       "      <td>546</td>\n",
       "      <td>Dawn Rodriguez</td>\n",
       "      <td>2022-08-30</td>\n",
       "    </tr>\n",
       "    <tr>\n",
       "      <th>6</th>\n",
       "      <td>563</td>\n",
       "      <td>Debra Morgan</td>\n",
       "      <td>2022-08-30</td>\n",
       "    </tr>\n",
       "    <tr>\n",
       "      <th>7</th>\n",
       "      <td>513</td>\n",
       "      <td>Tiffany Shaw</td>\n",
       "      <td>2022-09-01</td>\n",
       "    </tr>\n",
       "    <tr>\n",
       "      <th>8</th>\n",
       "      <td>509</td>\n",
       "      <td>Raymond Rose</td>\n",
       "      <td>2022-09-02</td>\n",
       "    </tr>\n",
       "    <tr>\n",
       "      <th>9</th>\n",
       "      <td>669</td>\n",
       "      <td>Rhonda Richardson</td>\n",
       "      <td>2022-09-05</td>\n",
       "    </tr>\n",
       "  </tbody>\n",
       "</table>\n",
       "</div>"
      ],
      "text/plain": [
       "   customer_id               name signup_date\n",
       "0          161   Jennifer Collins  2022-08-27\n",
       "1          437     Brenda Wheeler  2022-08-27\n",
       "2          416   Charles Thompson  2022-08-28\n",
       "3          465   Ashley Zimmerman  2022-08-29\n",
       "4          364      April Merritt  2022-08-30\n",
       "5          546     Dawn Rodriguez  2022-08-30\n",
       "6          563       Debra Morgan  2022-08-30\n",
       "7          513       Tiffany Shaw  2022-09-01\n",
       "8          509       Raymond Rose  2022-09-02\n",
       "9          669  Rhonda Richardson  2022-09-05"
      ]
     },
     "execution_count": 23,
     "metadata": {},
     "output_type": "execute_result"
    }
   ],
   "source": [
    "sql_query = \"\"\"\n",
    "SELECT customer_id, name, signup_date\n",
    "FROM customer\n",
    "WHERE strftime('%Y', signup_date) = '2022'\n",
    "ORDER BY signup_date ASC\n",
    "LIMIT 10;\n",
    "\"\"\"\n",
    "query_results_df = query_runner(connection, sql_query)\n",
    "print(query_results_df.shape)\n",
    "query_results_df.head(10)"
   ]
  },
  {
   "cell_type": "markdown",
   "id": "920d28c9-0e5a-490c-9fcb-ac74e78fb652",
   "metadata": {},
   "source": [
    "### Find the total number of orders and the average order value (AOV) across all customers."
   ]
  },
  {
   "cell_type": "code",
   "execution_count": 29,
   "id": "b9efcc38-a744-4e66-ab3e-0f7cbfd77e89",
   "metadata": {},
   "outputs": [
    {
     "name": "stdout",
     "output_type": "stream",
     "text": [
      "(1, 2)\n"
     ]
    },
    {
     "data": {
      "text/html": [
       "<div>\n",
       "<style scoped>\n",
       "    .dataframe tbody tr th:only-of-type {\n",
       "        vertical-align: middle;\n",
       "    }\n",
       "\n",
       "    .dataframe tbody tr th {\n",
       "        vertical-align: top;\n",
       "    }\n",
       "\n",
       "    .dataframe thead th {\n",
       "        text-align: right;\n",
       "    }\n",
       "</style>\n",
       "<table border=\"1\" class=\"dataframe\">\n",
       "  <thead>\n",
       "    <tr style=\"text-align: right;\">\n",
       "      <th></th>\n",
       "      <th>total_orders</th>\n",
       "      <th>avg_order_value</th>\n",
       "    </tr>\n",
       "  </thead>\n",
       "  <tbody>\n",
       "    <tr>\n",
       "      <th>0</th>\n",
       "      <td>4162</td>\n",
       "      <td>1456.85</td>\n",
       "    </tr>\n",
       "  </tbody>\n",
       "</table>\n",
       "</div>"
      ],
      "text/plain": [
       "   total_orders  avg_order_value\n",
       "0          4162          1456.85"
      ]
     },
     "execution_count": 29,
     "metadata": {},
     "output_type": "execute_result"
    }
   ],
   "source": [
    "sql_query = \"\"\"\n",
    "SELECT COUNT(*) as total_orders, ROUND(AVG(total_amount), 2) as avg_order_value\n",
    "FROM transactions;\n",
    "\"\"\"\n",
    "query_results_df = query_runner(connection, sql_query)\n",
    "print(query_results_df.shape)\n",
    "query_results_df.head(10)"
   ]
  },
  {
   "cell_type": "markdown",
   "id": "d63278af-6782-4a09-9f20-c720727f4289",
   "metadata": {},
   "source": [
    "### Find the total number of orders and the average order value (AOV) _per_ customer."
   ]
  },
  {
   "cell_type": "code",
   "execution_count": 31,
   "id": "42edb58f-68ba-4f04-939c-a289b2cf19d3",
   "metadata": {},
   "outputs": [
    {
     "name": "stdout",
     "output_type": "stream",
     "text": [
      "(750, 3)\n"
     ]
    },
    {
     "data": {
      "text/html": [
       "<div>\n",
       "<style scoped>\n",
       "    .dataframe tbody tr th:only-of-type {\n",
       "        vertical-align: middle;\n",
       "    }\n",
       "\n",
       "    .dataframe tbody tr th {\n",
       "        vertical-align: top;\n",
       "    }\n",
       "\n",
       "    .dataframe thead th {\n",
       "        text-align: right;\n",
       "    }\n",
       "</style>\n",
       "<table border=\"1\" class=\"dataframe\">\n",
       "  <thead>\n",
       "    <tr style=\"text-align: right;\">\n",
       "      <th></th>\n",
       "      <th>customer_id</th>\n",
       "      <th>total_orders</th>\n",
       "      <th>aov</th>\n",
       "    </tr>\n",
       "  </thead>\n",
       "  <tbody>\n",
       "    <tr>\n",
       "      <th>0</th>\n",
       "      <td>673</td>\n",
       "      <td>1</td>\n",
       "      <td>3965.48</td>\n",
       "    </tr>\n",
       "    <tr>\n",
       "      <th>1</th>\n",
       "      <td>199</td>\n",
       "      <td>1</td>\n",
       "      <td>3584.72</td>\n",
       "    </tr>\n",
       "    <tr>\n",
       "      <th>2</th>\n",
       "      <td>592</td>\n",
       "      <td>3</td>\n",
       "      <td>3584.59</td>\n",
       "    </tr>\n",
       "    <tr>\n",
       "      <th>3</th>\n",
       "      <td>107</td>\n",
       "      <td>3</td>\n",
       "      <td>3159.61</td>\n",
       "    </tr>\n",
       "    <tr>\n",
       "      <th>4</th>\n",
       "      <td>657</td>\n",
       "      <td>2</td>\n",
       "      <td>3128.51</td>\n",
       "    </tr>\n",
       "    <tr>\n",
       "      <th>5</th>\n",
       "      <td>564</td>\n",
       "      <td>1</td>\n",
       "      <td>3070.76</td>\n",
       "    </tr>\n",
       "    <tr>\n",
       "      <th>6</th>\n",
       "      <td>210</td>\n",
       "      <td>1</td>\n",
       "      <td>2960.79</td>\n",
       "    </tr>\n",
       "    <tr>\n",
       "      <th>7</th>\n",
       "      <td>645</td>\n",
       "      <td>1</td>\n",
       "      <td>2930.01</td>\n",
       "    </tr>\n",
       "    <tr>\n",
       "      <th>8</th>\n",
       "      <td>65</td>\n",
       "      <td>2</td>\n",
       "      <td>2911.02</td>\n",
       "    </tr>\n",
       "    <tr>\n",
       "      <th>9</th>\n",
       "      <td>400</td>\n",
       "      <td>1</td>\n",
       "      <td>2909.12</td>\n",
       "    </tr>\n",
       "  </tbody>\n",
       "</table>\n",
       "</div>"
      ],
      "text/plain": [
       "   customer_id  total_orders      aov\n",
       "0          673             1  3965.48\n",
       "1          199             1  3584.72\n",
       "2          592             3  3584.59\n",
       "3          107             3  3159.61\n",
       "4          657             2  3128.51\n",
       "5          564             1  3070.76\n",
       "6          210             1  2960.79\n",
       "7          645             1  2930.01\n",
       "8           65             2  2911.02\n",
       "9          400             1  2909.12"
      ]
     },
     "execution_count": 31,
     "metadata": {},
     "output_type": "execute_result"
    }
   ],
   "source": [
    "sql_query = \"\"\"\n",
    "SELECT customer_id, COUNT(*) as total_orders, ROUND(SUM(total_amount)/COUNT(*), 2) as aov\n",
    "FROM transactions\n",
    "GROUP BY customer_id\n",
    "ORDER BY aov DESC;\n",
    "\"\"\"\n",
    "query_results_df = query_runner(connection, sql_query)\n",
    "print(query_results_df.shape)\n",
    "query_results_df.head(10)"
   ]
  },
  {
   "cell_type": "markdown",
   "id": "2b2a5d25-1e89-4a95-8286-86f4b2dfc9ce",
   "metadata": {},
   "source": [
    "### Find the top 5 products by total sales revenue (quantity × item_price). Show `product_id`, `product_name`, and `total revenue`."
   ]
  },
  {
   "cell_type": "code",
   "execution_count": 41,
   "id": "c26e8b10-e6ad-405a-9cb5-a5264d1e17bb",
   "metadata": {},
   "outputs": [
    {
     "name": "stdout",
     "output_type": "stream",
     "text": [
      "(5, 3)\n"
     ]
    },
    {
     "data": {
      "text/html": [
       "<div>\n",
       "<style scoped>\n",
       "    .dataframe tbody tr th:only-of-type {\n",
       "        vertical-align: middle;\n",
       "    }\n",
       "\n",
       "    .dataframe tbody tr th {\n",
       "        vertical-align: top;\n",
       "    }\n",
       "\n",
       "    .dataframe thead th {\n",
       "        text-align: right;\n",
       "    }\n",
       "</style>\n",
       "<table border=\"1\" class=\"dataframe\">\n",
       "  <thead>\n",
       "    <tr style=\"text-align: right;\">\n",
       "      <th></th>\n",
       "      <th>product_id</th>\n",
       "      <th>name</th>\n",
       "      <th>total_sales_revenue</th>\n",
       "    </tr>\n",
       "  </thead>\n",
       "  <tbody>\n",
       "    <tr>\n",
       "      <th>0</th>\n",
       "      <td>132</td>\n",
       "      <td>Which</td>\n",
       "      <td>83301.27</td>\n",
       "    </tr>\n",
       "    <tr>\n",
       "      <th>1</th>\n",
       "      <td>3</td>\n",
       "      <td>Teacher</td>\n",
       "      <td>72025.50</td>\n",
       "    </tr>\n",
       "    <tr>\n",
       "      <th>2</th>\n",
       "      <td>18</td>\n",
       "      <td>Dream</td>\n",
       "      <td>71404.22</td>\n",
       "    </tr>\n",
       "    <tr>\n",
       "      <th>3</th>\n",
       "      <td>153</td>\n",
       "      <td>Family</td>\n",
       "      <td>68812.17</td>\n",
       "    </tr>\n",
       "    <tr>\n",
       "      <th>4</th>\n",
       "      <td>59</td>\n",
       "      <td>Act</td>\n",
       "      <td>66737.10</td>\n",
       "    </tr>\n",
       "  </tbody>\n",
       "</table>\n",
       "</div>"
      ],
      "text/plain": [
       "   product_id     name  total_sales_revenue\n",
       "0         132    Which             83301.27\n",
       "1           3  Teacher             72025.50\n",
       "2          18    Dream             71404.22\n",
       "3         153   Family             68812.17\n",
       "4          59      Act             66737.10"
      ]
     },
     "execution_count": 41,
     "metadata": {},
     "output_type": "execute_result"
    }
   ],
   "source": [
    "sql_query = \"\"\"\n",
    "SELECT p.product_id, name, item_price * SUM(quantity) AS total_sales_revenue\n",
    "FROM product p INNER JOIN transaction_items t\n",
    "ON p.product_id = t.product_id\n",
    "GROUP BY p.product_id\n",
    "ORDER BY total_sales_revenue DESC\n",
    "LIMIT 5;\n",
    "\"\"\"\n",
    "query_results_df = query_runner(connection, sql_query)\n",
    "print(query_results_df.shape)\n",
    "query_results_df.head(10)"
   ]
  },
  {
   "cell_type": "markdown",
   "id": "8c7589c4-f4a9-465a-8e94-5c1490c4f182",
   "metadata": {},
   "source": [
    "### For each country, calculate the average lifetime spend per customer.\n",
    "\n",
    "Lifetime spend = sum of all orders for that customer."
   ]
  },
  {
   "cell_type": "code",
   "execution_count": 48,
   "id": "99f82e7d-9f22-401b-ac41-7fcf95c198bd",
   "metadata": {},
   "outputs": [
    {
     "name": "stdout",
     "output_type": "stream",
     "text": [
      "(235, 2)\n"
     ]
    },
    {
     "data": {
      "text/html": [
       "<div>\n",
       "<style scoped>\n",
       "    .dataframe tbody tr th:only-of-type {\n",
       "        vertical-align: middle;\n",
       "    }\n",
       "\n",
       "    .dataframe tbody tr th {\n",
       "        vertical-align: top;\n",
       "    }\n",
       "\n",
       "    .dataframe thead th {\n",
       "        text-align: right;\n",
       "    }\n",
       "</style>\n",
       "<table border=\"1\" class=\"dataframe\">\n",
       "  <thead>\n",
       "    <tr style=\"text-align: right;\">\n",
       "      <th></th>\n",
       "      <th>country</th>\n",
       "      <th>avg_lifetime_spend_per_customer</th>\n",
       "    </tr>\n",
       "  </thead>\n",
       "  <tbody>\n",
       "    <tr>\n",
       "      <th>0</th>\n",
       "      <td>Aruba</td>\n",
       "      <td>17339.590</td>\n",
       "    </tr>\n",
       "    <tr>\n",
       "      <th>1</th>\n",
       "      <td>Paraguay</td>\n",
       "      <td>16201.340</td>\n",
       "    </tr>\n",
       "    <tr>\n",
       "      <th>2</th>\n",
       "      <td>Kiribati</td>\n",
       "      <td>15242.920</td>\n",
       "    </tr>\n",
       "    <tr>\n",
       "      <th>3</th>\n",
       "      <td>Germany</td>\n",
       "      <td>14601.815</td>\n",
       "    </tr>\n",
       "    <tr>\n",
       "      <th>4</th>\n",
       "      <td>Croatia</td>\n",
       "      <td>14344.400</td>\n",
       "    </tr>\n",
       "    <tr>\n",
       "      <th>5</th>\n",
       "      <td>French Southern Territories</td>\n",
       "      <td>14027.510</td>\n",
       "    </tr>\n",
       "    <tr>\n",
       "      <th>6</th>\n",
       "      <td>Bouvet Island (Bouvetoya)</td>\n",
       "      <td>13225.255</td>\n",
       "    </tr>\n",
       "    <tr>\n",
       "      <th>7</th>\n",
       "      <td>Ghana</td>\n",
       "      <td>12786.520</td>\n",
       "    </tr>\n",
       "    <tr>\n",
       "      <th>8</th>\n",
       "      <td>Guernsey</td>\n",
       "      <td>12719.350</td>\n",
       "    </tr>\n",
       "    <tr>\n",
       "      <th>9</th>\n",
       "      <td>Venezuela</td>\n",
       "      <td>12670.705</td>\n",
       "    </tr>\n",
       "  </tbody>\n",
       "</table>\n",
       "</div>"
      ],
      "text/plain": [
       "                       country  avg_lifetime_spend_per_customer\n",
       "0                        Aruba                        17339.590\n",
       "1                     Paraguay                        16201.340\n",
       "2                     Kiribati                        15242.920\n",
       "3                      Germany                        14601.815\n",
       "4                      Croatia                        14344.400\n",
       "5  French Southern Territories                        14027.510\n",
       "6    Bouvet Island (Bouvetoya)                        13225.255\n",
       "7                        Ghana                        12786.520\n",
       "8                     Guernsey                        12719.350\n",
       "9                    Venezuela                        12670.705"
      ]
     },
     "execution_count": 48,
     "metadata": {},
     "output_type": "execute_result"
    }
   ],
   "source": [
    "sql_query = \"\"\"\n",
    "WITH lifetime_spend_per_customer AS (\n",
    "SELECT customer_id, SUM(total_amount) AS total_spend\n",
    "FROM transactions\n",
    "GROUP BY customer_id\n",
    ")\n",
    "SELECT c.country, AVG(l.total_spend) AS avg_lifetime_spend_per_customer\n",
    "FROM lifetime_spend_per_customer l INNER JOIN customer c\n",
    "ON l.customer_id = c.customer_id\n",
    "GROUP BY c.country\n",
    "ORDER BY avg_lifetime_spend_per_customer DESC;\n",
    "\"\"\"\n",
    "query_results_df = query_runner(connection, sql_query)\n",
    "print(query_results_df.shape)\n",
    "query_results_df.head(10)"
   ]
  },
  {
   "cell_type": "markdown",
   "id": "4d357ba8-287e-4802-898b-ba19295c4f82",
   "metadata": {},
   "source": [
    "### For each customer, rank their orders by `order_date` (most recent first). Show `customer_id`, `order_id`, `order_date`, and the `rank`."
   ]
  },
  {
   "cell_type": "code",
   "execution_count": 53,
   "id": "e5ed7221-6d6f-416d-80c5-b5603bf6dfa6",
   "metadata": {},
   "outputs": [
    {
     "name": "stdout",
     "output_type": "stream",
     "text": [
      "(4162, 4)\n"
     ]
    },
    {
     "data": {
      "text/html": [
       "<div>\n",
       "<style scoped>\n",
       "    .dataframe tbody tr th:only-of-type {\n",
       "        vertical-align: middle;\n",
       "    }\n",
       "\n",
       "    .dataframe tbody tr th {\n",
       "        vertical-align: top;\n",
       "    }\n",
       "\n",
       "    .dataframe thead th {\n",
       "        text-align: right;\n",
       "    }\n",
       "</style>\n",
       "<table border=\"1\" class=\"dataframe\">\n",
       "  <thead>\n",
       "    <tr style=\"text-align: right;\">\n",
       "      <th></th>\n",
       "      <th>customer_id</th>\n",
       "      <th>order_id</th>\n",
       "      <th>order_date</th>\n",
       "      <th>rank</th>\n",
       "    </tr>\n",
       "  </thead>\n",
       "  <tbody>\n",
       "    <tr>\n",
       "      <th>0</th>\n",
       "      <td>1</td>\n",
       "      <td>1</td>\n",
       "      <td>2024-09-26</td>\n",
       "      <td>1</td>\n",
       "    </tr>\n",
       "    <tr>\n",
       "      <th>1</th>\n",
       "      <td>2</td>\n",
       "      <td>2</td>\n",
       "      <td>2025-06-26</td>\n",
       "      <td>1</td>\n",
       "    </tr>\n",
       "    <tr>\n",
       "      <th>2</th>\n",
       "      <td>2</td>\n",
       "      <td>9</td>\n",
       "      <td>2025-05-08</td>\n",
       "      <td>2</td>\n",
       "    </tr>\n",
       "    <tr>\n",
       "      <th>3</th>\n",
       "      <td>2</td>\n",
       "      <td>8</td>\n",
       "      <td>2025-05-07</td>\n",
       "      <td>3</td>\n",
       "    </tr>\n",
       "    <tr>\n",
       "      <th>4</th>\n",
       "      <td>2</td>\n",
       "      <td>3</td>\n",
       "      <td>2024-12-10</td>\n",
       "      <td>4</td>\n",
       "    </tr>\n",
       "    <tr>\n",
       "      <th>5</th>\n",
       "      <td>2</td>\n",
       "      <td>7</td>\n",
       "      <td>2024-05-06</td>\n",
       "      <td>5</td>\n",
       "    </tr>\n",
       "    <tr>\n",
       "      <th>6</th>\n",
       "      <td>2</td>\n",
       "      <td>6</td>\n",
       "      <td>2023-10-23</td>\n",
       "      <td>6</td>\n",
       "    </tr>\n",
       "    <tr>\n",
       "      <th>7</th>\n",
       "      <td>2</td>\n",
       "      <td>10</td>\n",
       "      <td>2023-07-25</td>\n",
       "      <td>7</td>\n",
       "    </tr>\n",
       "    <tr>\n",
       "      <th>8</th>\n",
       "      <td>2</td>\n",
       "      <td>5</td>\n",
       "      <td>2023-03-09</td>\n",
       "      <td>8</td>\n",
       "    </tr>\n",
       "    <tr>\n",
       "      <th>9</th>\n",
       "      <td>2</td>\n",
       "      <td>4</td>\n",
       "      <td>2022-09-10</td>\n",
       "      <td>9</td>\n",
       "    </tr>\n",
       "  </tbody>\n",
       "</table>\n",
       "</div>"
      ],
      "text/plain": [
       "   customer_id  order_id  order_date  rank\n",
       "0            1         1  2024-09-26     1\n",
       "1            2         2  2025-06-26     1\n",
       "2            2         9  2025-05-08     2\n",
       "3            2         8  2025-05-07     3\n",
       "4            2         3  2024-12-10     4\n",
       "5            2         7  2024-05-06     5\n",
       "6            2         6  2023-10-23     6\n",
       "7            2        10  2023-07-25     7\n",
       "8            2         5  2023-03-09     8\n",
       "9            2         4  2022-09-10     9"
      ]
     },
     "execution_count": 53,
     "metadata": {},
     "output_type": "execute_result"
    }
   ],
   "source": [
    "sql_query = \"\"\"\n",
    "SELECT customer_id, order_id, order_date, RANK() OVER (PARTITION BY customer_id ORDER BY order_date DESC) AS rank\n",
    "FROM transactions;\n",
    "\"\"\"\n",
    "query_results_df = query_runner(connection, sql_query)\n",
    "print(query_results_df.shape)\n",
    "query_results_df.head(10)"
   ]
  },
  {
   "cell_type": "markdown",
   "id": "1848aa43-39e2-4604-aac7-f69c35774bd2",
   "metadata": {},
   "source": [
    "  - `RANK()`: Will skip ranks if there are ties.\n",
    "  - `ROW_NUMBER()` is often preferred if you want a strict sequence (1, 2, 3 …).\n",
    "  - `DENSE_RANK()` avoids gaps but keeps ties."
   ]
  }
 ],
 "metadata": {
  "kernelspec": {
   "display_name": "technical-interview-prep-pandas",
   "language": "python",
   "name": ".venv"
  },
  "language_info": {
   "codemirror_mode": {
    "name": "ipython",
    "version": 3
   },
   "file_extension": ".py",
   "mimetype": "text/x-python",
   "name": "python",
   "nbconvert_exporter": "python",
   "pygments_lexer": "ipython3",
   "version": "3.11.6"
  }
 },
 "nbformat": 4,
 "nbformat_minor": 5
}
