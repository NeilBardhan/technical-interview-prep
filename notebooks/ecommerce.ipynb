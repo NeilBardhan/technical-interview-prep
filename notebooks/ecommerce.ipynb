{
 "cells": [
  {
   "cell_type": "markdown",
   "id": "115f55e0-e88a-4e68-8882-53c77256b3e4",
   "metadata": {},
   "source": [
    "# Pandas technical interview prep on e-commerce datasets"
   ]
  },
  {
   "cell_type": "code",
   "execution_count": 1,
   "id": "41bb7414-6087-433a-a775-98449becca96",
   "metadata": {},
   "outputs": [],
   "source": [
    "import os\n",
    "import sys\n",
    "import pandas as pd"
   ]
  },
  {
   "cell_type": "code",
   "execution_count": 2,
   "id": "2456dcc5-07d5-4575-8953-adf48400c603",
   "metadata": {},
   "outputs": [
    {
     "data": {
      "text/plain": [
       "'/Users/neilbardhan/Documents/python-projects/technical-interview-prep/data/notebooks'"
      ]
     },
     "execution_count": 2,
     "metadata": {},
     "output_type": "execute_result"
    }
   ],
   "source": [
    "os.getcwd()"
   ]
  },
  {
   "cell_type": "code",
   "execution_count": 3,
   "id": "3aa4c44b-0481-4bb9-b146-b3ae3d1b0e49",
   "metadata": {},
   "outputs": [],
   "source": [
    "os.chdir('..')"
   ]
  },
  {
   "cell_type": "markdown",
   "id": "0128a177-0afd-4276-ac01-53d8219cbba2",
   "metadata": {},
   "source": [
    "## Reading in the Datasets"
   ]
  },
  {
   "cell_type": "code",
   "execution_count": 6,
   "id": "a1e9050d-7020-4223-b52a-65c9e516bfa7",
   "metadata": {},
   "outputs": [
    {
     "data": {
      "text/plain": [
       "'/Users/neilbardhan/Documents/python-projects/technical-interview-prep/data/datasets/'"
      ]
     },
     "execution_count": 6,
     "metadata": {},
     "output_type": "execute_result"
    }
   ],
   "source": [
    "DATASETS_ROOT = os.getcwd() + '/datasets/'\n",
    "DATASETS_ROOT"
   ]
  },
  {
   "cell_type": "markdown",
   "id": "355ae627-4d76-4050-a3d0-726e92cf4c34",
   "metadata": {},
   "source": [
    "### Customer Table"
   ]
  },
  {
   "cell_type": "code",
   "execution_count": 5,
   "id": "343330d3-ee74-4142-b385-72578ab8e618",
   "metadata": {},
   "outputs": [
    {
     "name": "stdout",
     "output_type": "stream",
     "text": [
      "(750, 5)\n"
     ]
    },
    {
     "data": {
      "text/html": [
       "<div>\n",
       "<style scoped>\n",
       "    .dataframe tbody tr th:only-of-type {\n",
       "        vertical-align: middle;\n",
       "    }\n",
       "\n",
       "    .dataframe tbody tr th {\n",
       "        vertical-align: top;\n",
       "    }\n",
       "\n",
       "    .dataframe thead th {\n",
       "        text-align: right;\n",
       "    }\n",
       "</style>\n",
       "<table border=\"1\" class=\"dataframe\">\n",
       "  <thead>\n",
       "    <tr style=\"text-align: right;\">\n",
       "      <th></th>\n",
       "      <th>customer_id</th>\n",
       "      <th>name</th>\n",
       "      <th>email</th>\n",
       "      <th>signup_date</th>\n",
       "      <th>country</th>\n",
       "    </tr>\n",
       "  </thead>\n",
       "  <tbody>\n",
       "    <tr>\n",
       "      <th>0</th>\n",
       "      <td>1</td>\n",
       "      <td>Joshua Lane</td>\n",
       "      <td>gary34@example.org</td>\n",
       "      <td>2022-09-12</td>\n",
       "      <td>China</td>\n",
       "    </tr>\n",
       "    <tr>\n",
       "      <th>1</th>\n",
       "      <td>2</td>\n",
       "      <td>Melissa Atkins</td>\n",
       "      <td>varellano@example.net</td>\n",
       "      <td>2024-12-25</td>\n",
       "      <td>China</td>\n",
       "    </tr>\n",
       "    <tr>\n",
       "      <th>2</th>\n",
       "      <td>3</td>\n",
       "      <td>Barry Ray</td>\n",
       "      <td>bentonashley@example.org</td>\n",
       "      <td>2025-03-27</td>\n",
       "      <td>Togo</td>\n",
       "    </tr>\n",
       "    <tr>\n",
       "      <th>3</th>\n",
       "      <td>4</td>\n",
       "      <td>Mary Carter DDS</td>\n",
       "      <td>angelicajones@example.net</td>\n",
       "      <td>2024-12-28</td>\n",
       "      <td>French Polynesia</td>\n",
       "    </tr>\n",
       "    <tr>\n",
       "      <th>4</th>\n",
       "      <td>5</td>\n",
       "      <td>Thomas Weber</td>\n",
       "      <td>greg59@example.net</td>\n",
       "      <td>2025-03-19</td>\n",
       "      <td>Mali</td>\n",
       "    </tr>\n",
       "  </tbody>\n",
       "</table>\n",
       "</div>"
      ],
      "text/plain": [
       "   customer_id             name                      email signup_date  \\\n",
       "0            1      Joshua Lane         gary34@example.org  2022-09-12   \n",
       "1            2   Melissa Atkins      varellano@example.net  2024-12-25   \n",
       "2            3        Barry Ray   bentonashley@example.org  2025-03-27   \n",
       "3            4  Mary Carter DDS  angelicajones@example.net  2024-12-28   \n",
       "4            5     Thomas Weber         greg59@example.net  2025-03-19   \n",
       "\n",
       "            country  \n",
       "0             China  \n",
       "1             China  \n",
       "2              Togo  \n",
       "3  French Polynesia  \n",
       "4              Mali  "
      ]
     },
     "execution_count": 5,
     "metadata": {},
     "output_type": "execute_result"
    }
   ],
   "source": [
    "customer_df = pd.read_csv(DATASETS_ROOT + 'customers.csv')\n",
    "print(customer_df.shape)\n",
    "customer_df.head()"
   ]
  },
  {
   "cell_type": "markdown",
   "id": "ccd56681-3435-4ef4-806d-29ae5c27d40d",
   "metadata": {},
   "source": [
    "### Product Table"
   ]
  },
  {
   "cell_type": "code",
   "execution_count": 7,
   "id": "14ad5019-c43b-486f-be18-aba712c08fca",
   "metadata": {},
   "outputs": [
    {
     "name": "stdout",
     "output_type": "stream",
     "text": [
      "(200, 4)\n"
     ]
    },
    {
     "data": {
      "text/html": [
       "<div>\n",
       "<style scoped>\n",
       "    .dataframe tbody tr th:only-of-type {\n",
       "        vertical-align: middle;\n",
       "    }\n",
       "\n",
       "    .dataframe tbody tr th {\n",
       "        vertical-align: top;\n",
       "    }\n",
       "\n",
       "    .dataframe thead th {\n",
       "        text-align: right;\n",
       "    }\n",
       "</style>\n",
       "<table border=\"1\" class=\"dataframe\">\n",
       "  <thead>\n",
       "    <tr style=\"text-align: right;\">\n",
       "      <th></th>\n",
       "      <th>product_id</th>\n",
       "      <th>name</th>\n",
       "      <th>category</th>\n",
       "      <th>price</th>\n",
       "    </tr>\n",
       "  </thead>\n",
       "  <tbody>\n",
       "    <tr>\n",
       "      <th>0</th>\n",
       "      <td>1</td>\n",
       "      <td>Skill</td>\n",
       "      <td>Books</td>\n",
       "      <td>311.56</td>\n",
       "    </tr>\n",
       "    <tr>\n",
       "      <th>1</th>\n",
       "      <td>2</td>\n",
       "      <td>Report</td>\n",
       "      <td>Toys</td>\n",
       "      <td>439.10</td>\n",
       "    </tr>\n",
       "    <tr>\n",
       "      <th>2</th>\n",
       "      <td>3</td>\n",
       "      <td>Voice</td>\n",
       "      <td>Books</td>\n",
       "      <td>282.50</td>\n",
       "    </tr>\n",
       "    <tr>\n",
       "      <th>3</th>\n",
       "      <td>4</td>\n",
       "      <td>Cold</td>\n",
       "      <td>Home</td>\n",
       "      <td>166.65</td>\n",
       "    </tr>\n",
       "    <tr>\n",
       "      <th>4</th>\n",
       "      <td>5</td>\n",
       "      <td>Provide</td>\n",
       "      <td>Books</td>\n",
       "      <td>127.10</td>\n",
       "    </tr>\n",
       "  </tbody>\n",
       "</table>\n",
       "</div>"
      ],
      "text/plain": [
       "   product_id     name category   price\n",
       "0           1    Skill    Books  311.56\n",
       "1           2   Report     Toys  439.10\n",
       "2           3    Voice    Books  282.50\n",
       "3           4     Cold     Home  166.65\n",
       "4           5  Provide    Books  127.10"
      ]
     },
     "execution_count": 7,
     "metadata": {},
     "output_type": "execute_result"
    }
   ],
   "source": [
    "product_df = pd.read_csv(DATASETS_ROOT + 'products.csv')\n",
    "print(product_df.shape)\n",
    "product_df.head()"
   ]
  },
  {
   "cell_type": "markdown",
   "id": "382f0355-dcdd-4370-8ba6-d395642b0f43",
   "metadata": {},
   "source": [
    "### Transactions Master Table"
   ]
  },
  {
   "cell_type": "code",
   "execution_count": 8,
   "id": "42b7a57a-6b7d-4a3a-a659-1da31ad020c5",
   "metadata": {},
   "outputs": [
    {
     "name": "stdout",
     "output_type": "stream",
     "text": [
      "(4099, 4)\n"
     ]
    },
    {
     "data": {
      "text/html": [
       "<div>\n",
       "<style scoped>\n",
       "    .dataframe tbody tr th:only-of-type {\n",
       "        vertical-align: middle;\n",
       "    }\n",
       "\n",
       "    .dataframe tbody tr th {\n",
       "        vertical-align: top;\n",
       "    }\n",
       "\n",
       "    .dataframe thead th {\n",
       "        text-align: right;\n",
       "    }\n",
       "</style>\n",
       "<table border=\"1\" class=\"dataframe\">\n",
       "  <thead>\n",
       "    <tr style=\"text-align: right;\">\n",
       "      <th></th>\n",
       "      <th>order_id</th>\n",
       "      <th>customer_id</th>\n",
       "      <th>order_date</th>\n",
       "      <th>total_amount</th>\n",
       "    </tr>\n",
       "  </thead>\n",
       "  <tbody>\n",
       "    <tr>\n",
       "      <th>0</th>\n",
       "      <td>1</td>\n",
       "      <td>1</td>\n",
       "      <td>2023-01-20</td>\n",
       "      <td>14.29</td>\n",
       "    </tr>\n",
       "    <tr>\n",
       "      <th>1</th>\n",
       "      <td>2</td>\n",
       "      <td>1</td>\n",
       "      <td>2024-01-01</td>\n",
       "      <td>347.09</td>\n",
       "    </tr>\n",
       "    <tr>\n",
       "      <th>2</th>\n",
       "      <td>3</td>\n",
       "      <td>1</td>\n",
       "      <td>2023-01-12</td>\n",
       "      <td>1839.04</td>\n",
       "    </tr>\n",
       "    <tr>\n",
       "      <th>3</th>\n",
       "      <td>4</td>\n",
       "      <td>1</td>\n",
       "      <td>2024-09-11</td>\n",
       "      <td>3016.45</td>\n",
       "    </tr>\n",
       "    <tr>\n",
       "      <th>4</th>\n",
       "      <td>5</td>\n",
       "      <td>2</td>\n",
       "      <td>2023-06-20</td>\n",
       "      <td>2001.33</td>\n",
       "    </tr>\n",
       "  </tbody>\n",
       "</table>\n",
       "</div>"
      ],
      "text/plain": [
       "   order_id  customer_id  order_date  total_amount\n",
       "0         1            1  2023-01-20         14.29\n",
       "1         2            1  2024-01-01        347.09\n",
       "2         3            1  2023-01-12       1839.04\n",
       "3         4            1  2024-09-11       3016.45\n",
       "4         5            2  2023-06-20       2001.33"
      ]
     },
     "execution_count": 8,
     "metadata": {},
     "output_type": "execute_result"
    }
   ],
   "source": [
    "transactions_df = pd.read_csv(DATASETS_ROOT + 'transactions.csv')\n",
    "print(transactions_df.shape)\n",
    "transactions_df.head()"
   ]
  },
  {
   "cell_type": "markdown",
   "id": "5d60b46f-2f4a-479c-ba0e-d3de9482b4ef",
   "metadata": {},
   "source": [
    "### Transactions Items Table"
   ]
  },
  {
   "cell_type": "code",
   "execution_count": 9,
   "id": "60f71586-9f8a-4c72-b84e-600c74c5df18",
   "metadata": {},
   "outputs": [
    {
     "name": "stdout",
     "output_type": "stream",
     "text": [
      "(12359, 5)\n"
     ]
    },
    {
     "data": {
      "text/html": [
       "<div>\n",
       "<style scoped>\n",
       "    .dataframe tbody tr th:only-of-type {\n",
       "        vertical-align: middle;\n",
       "    }\n",
       "\n",
       "    .dataframe tbody tr th {\n",
       "        vertical-align: top;\n",
       "    }\n",
       "\n",
       "    .dataframe thead th {\n",
       "        text-align: right;\n",
       "    }\n",
       "</style>\n",
       "<table border=\"1\" class=\"dataframe\">\n",
       "  <thead>\n",
       "    <tr style=\"text-align: right;\">\n",
       "      <th></th>\n",
       "      <th>order_item_id</th>\n",
       "      <th>order_id</th>\n",
       "      <th>product_id</th>\n",
       "      <th>quantity</th>\n",
       "      <th>item_price</th>\n",
       "    </tr>\n",
       "  </thead>\n",
       "  <tbody>\n",
       "    <tr>\n",
       "      <th>0</th>\n",
       "      <td>1</td>\n",
       "      <td>1</td>\n",
       "      <td>155</td>\n",
       "      <td>1</td>\n",
       "      <td>14.29</td>\n",
       "    </tr>\n",
       "    <tr>\n",
       "      <th>1</th>\n",
       "      <td>2</td>\n",
       "      <td>2</td>\n",
       "      <td>43</td>\n",
       "      <td>1</td>\n",
       "      <td>347.09</td>\n",
       "    </tr>\n",
       "    <tr>\n",
       "      <th>2</th>\n",
       "      <td>3</td>\n",
       "      <td>3</td>\n",
       "      <td>170</td>\n",
       "      <td>1</td>\n",
       "      <td>54.50</td>\n",
       "    </tr>\n",
       "    <tr>\n",
       "      <th>3</th>\n",
       "      <td>4</td>\n",
       "      <td>3</td>\n",
       "      <td>145</td>\n",
       "      <td>2</td>\n",
       "      <td>420.33</td>\n",
       "    </tr>\n",
       "    <tr>\n",
       "      <th>4</th>\n",
       "      <td>5</td>\n",
       "      <td>3</td>\n",
       "      <td>89</td>\n",
       "      <td>2</td>\n",
       "      <td>359.01</td>\n",
       "    </tr>\n",
       "  </tbody>\n",
       "</table>\n",
       "</div>"
      ],
      "text/plain": [
       "   order_item_id  order_id  product_id  quantity  item_price\n",
       "0              1         1         155         1       14.29\n",
       "1              2         2          43         1      347.09\n",
       "2              3         3         170         1       54.50\n",
       "3              4         3         145         2      420.33\n",
       "4              5         3          89         2      359.01"
      ]
     },
     "execution_count": 9,
     "metadata": {},
     "output_type": "execute_result"
    }
   ],
   "source": [
    "transactions_items_df = pd.read_csv(DATASETS_ROOT + 'transactions_items.csv')\n",
    "print(transactions_items_df.shape)\n",
    "transactions_items_df.head()"
   ]
  },
  {
   "cell_type": "markdown",
   "id": "27028bab-fbd0-489d-b03a-b2c53a6ad169",
   "metadata": {},
   "source": [
    "### Reviews Table"
   ]
  },
  {
   "cell_type": "code",
   "execution_count": 11,
   "id": "9ae59cd1-58ff-4d18-aea4-8039db2444a5",
   "metadata": {},
   "outputs": [
    {
     "name": "stdout",
     "output_type": "stream",
     "text": [
      "(1429, 5)\n"
     ]
    },
    {
     "data": {
      "text/html": [
       "<div>\n",
       "<style scoped>\n",
       "    .dataframe tbody tr th:only-of-type {\n",
       "        vertical-align: middle;\n",
       "    }\n",
       "\n",
       "    .dataframe tbody tr th {\n",
       "        vertical-align: top;\n",
       "    }\n",
       "\n",
       "    .dataframe thead th {\n",
       "        text-align: right;\n",
       "    }\n",
       "</style>\n",
       "<table border=\"1\" class=\"dataframe\">\n",
       "  <thead>\n",
       "    <tr style=\"text-align: right;\">\n",
       "      <th></th>\n",
       "      <th>review_id</th>\n",
       "      <th>order_id</th>\n",
       "      <th>product_id</th>\n",
       "      <th>rating</th>\n",
       "      <th>review_date</th>\n",
       "    </tr>\n",
       "  </thead>\n",
       "  <tbody>\n",
       "    <tr>\n",
       "      <th>0</th>\n",
       "      <td>1</td>\n",
       "      <td>492</td>\n",
       "      <td>51</td>\n",
       "      <td>2</td>\n",
       "      <td>2024-06-22</td>\n",
       "    </tr>\n",
       "    <tr>\n",
       "      <th>1</th>\n",
       "      <td>2</td>\n",
       "      <td>3796</td>\n",
       "      <td>26</td>\n",
       "      <td>3</td>\n",
       "      <td>2024-12-26</td>\n",
       "    </tr>\n",
       "    <tr>\n",
       "      <th>2</th>\n",
       "      <td>3</td>\n",
       "      <td>1905</td>\n",
       "      <td>73</td>\n",
       "      <td>4</td>\n",
       "      <td>2023-05-29</td>\n",
       "    </tr>\n",
       "    <tr>\n",
       "      <th>3</th>\n",
       "      <td>4</td>\n",
       "      <td>4031</td>\n",
       "      <td>163</td>\n",
       "      <td>1</td>\n",
       "      <td>2024-12-26</td>\n",
       "    </tr>\n",
       "    <tr>\n",
       "      <th>4</th>\n",
       "      <td>5</td>\n",
       "      <td>1218</td>\n",
       "      <td>155</td>\n",
       "      <td>2</td>\n",
       "      <td>2024-03-11</td>\n",
       "    </tr>\n",
       "  </tbody>\n",
       "</table>\n",
       "</div>"
      ],
      "text/plain": [
       "   review_id  order_id  product_id  rating review_date\n",
       "0          1       492          51       2  2024-06-22\n",
       "1          2      3796          26       3  2024-12-26\n",
       "2          3      1905          73       4  2023-05-29\n",
       "3          4      4031         163       1  2024-12-26\n",
       "4          5      1218         155       2  2024-03-11"
      ]
     },
     "execution_count": 11,
     "metadata": {},
     "output_type": "execute_result"
    }
   ],
   "source": [
    "reviews_df = pd.read_csv(DATASETS_ROOT + 'reviews.csv')\n",
    "print(reviews_df.shape)\n",
    "reviews_df.head()"
   ]
  },
  {
   "cell_type": "markdown",
   "id": "6715990f-6458-4717-9ad0-2fa85e6e95fb",
   "metadata": {},
   "source": [
    "## Pandas Questions"
   ]
  },
  {
   "cell_type": "markdown",
   "id": "078ff41c-b57b-452d-bcd0-e59002f23a96",
   "metadata": {},
   "source": [
    "#### Top 5 countries with most customers"
   ]
  },
  {
   "cell_type": "code",
   "execution_count": 13,
   "id": "2632f700-a335-4c3e-ad50-bade4d028aea",
   "metadata": {},
   "outputs": [
    {
     "data": {
      "text/plain": [
       "country\n",
       "Saudi Arabia                        9\n",
       "Ireland                             9\n",
       "Kuwait                              8\n",
       "Saint Vincent and the Grenadines    8\n",
       "Niger                               7\n",
       "Name: count, dtype: int64"
      ]
     },
     "execution_count": 13,
     "metadata": {},
     "output_type": "execute_result"
    }
   ],
   "source": [
    "customer_df['country'].value_counts().sort_values(ascending=False).head(5)"
   ]
  },
  {
   "cell_type": "markdown",
   "id": "5a269c29-82b8-4a1a-b169-06f0c332ea44",
   "metadata": {},
   "source": [
    "#### Top 5 categories with most products"
   ]
  },
  {
   "cell_type": "code",
   "execution_count": 14,
   "id": "d897e09d-ca58-4f35-a1e4-fd772be970e1",
   "metadata": {},
   "outputs": [
    {
     "data": {
      "text/plain": [
       "category\n",
       "Clothing       45\n",
       "Books          42\n",
       "Electronics    42\n",
       "Toys           39\n",
       "Home           32\n",
       "Name: count, dtype: int64"
      ]
     },
     "execution_count": 14,
     "metadata": {},
     "output_type": "execute_result"
    }
   ],
   "source": [
    "product_df['category'].value_counts().sort_values(ascending=False).head(5)"
   ]
  },
  {
   "cell_type": "markdown",
   "id": "8c3f6dfc-4dfd-4132-bc0c-d945e2644754",
   "metadata": {},
   "source": [
    "#### Top 5 most popular items by quamtity purchased"
   ]
  },
  {
   "cell_type": "code",
   "execution_count": 32,
   "id": "e6aaa497-2fdb-40aa-be57-070f33edaeb4",
   "metadata": {},
   "outputs": [
    {
     "data": {
      "text/html": [
       "<div>\n",
       "<style scoped>\n",
       "    .dataframe tbody tr th:only-of-type {\n",
       "        vertical-align: middle;\n",
       "    }\n",
       "\n",
       "    .dataframe tbody tr th {\n",
       "        vertical-align: top;\n",
       "    }\n",
       "\n",
       "    .dataframe thead th {\n",
       "        text-align: right;\n",
       "    }\n",
       "</style>\n",
       "<table border=\"1\" class=\"dataframe\">\n",
       "  <thead>\n",
       "    <tr style=\"text-align: right;\">\n",
       "      <th></th>\n",
       "      <th>product_id</th>\n",
       "      <th>quantity</th>\n",
       "    </tr>\n",
       "  </thead>\n",
       "  <tbody>\n",
       "    <tr>\n",
       "      <th>7</th>\n",
       "      <td>8</td>\n",
       "      <td>164</td>\n",
       "    </tr>\n",
       "    <tr>\n",
       "      <th>137</th>\n",
       "      <td>138</td>\n",
       "      <td>164</td>\n",
       "    </tr>\n",
       "    <tr>\n",
       "      <th>160</th>\n",
       "      <td>161</td>\n",
       "      <td>163</td>\n",
       "    </tr>\n",
       "    <tr>\n",
       "      <th>66</th>\n",
       "      <td>67</td>\n",
       "      <td>162</td>\n",
       "    </tr>\n",
       "    <tr>\n",
       "      <th>116</th>\n",
       "      <td>117</td>\n",
       "      <td>160</td>\n",
       "    </tr>\n",
       "  </tbody>\n",
       "</table>\n",
       "</div>"
      ],
      "text/plain": [
       "     product_id  quantity\n",
       "7             8       164\n",
       "137         138       164\n",
       "160         161       163\n",
       "66           67       162\n",
       "116         117       160"
      ]
     },
     "execution_count": 32,
     "metadata": {},
     "output_type": "execute_result"
    }
   ],
   "source": [
    "top_5_product_ids = transactions_items_df.groupby(\"product_id\")[[\"quantity\"]].aggregate(\"sum\").reset_index().sort_values(by=\"quantity\", ascending=False).head(5)\n",
    "top_5_product_ids"
   ]
  },
  {
   "cell_type": "code",
   "execution_count": 33,
   "id": "ae04a215-f26f-4006-87dd-1a94a40ae3d1",
   "metadata": {},
   "outputs": [
    {
     "data": {
      "text/html": [
       "<div>\n",
       "<style scoped>\n",
       "    .dataframe tbody tr th:only-of-type {\n",
       "        vertical-align: middle;\n",
       "    }\n",
       "\n",
       "    .dataframe tbody tr th {\n",
       "        vertical-align: top;\n",
       "    }\n",
       "\n",
       "    .dataframe thead th {\n",
       "        text-align: right;\n",
       "    }\n",
       "</style>\n",
       "<table border=\"1\" class=\"dataframe\">\n",
       "  <thead>\n",
       "    <tr style=\"text-align: right;\">\n",
       "      <th></th>\n",
       "      <th>product_id</th>\n",
       "      <th>quantity</th>\n",
       "      <th>name</th>\n",
       "      <th>category</th>\n",
       "      <th>price</th>\n",
       "    </tr>\n",
       "  </thead>\n",
       "  <tbody>\n",
       "    <tr>\n",
       "      <th>0</th>\n",
       "      <td>8</td>\n",
       "      <td>164</td>\n",
       "      <td>Better</td>\n",
       "      <td>Electronics</td>\n",
       "      <td>486.09</td>\n",
       "    </tr>\n",
       "    <tr>\n",
       "      <th>1</th>\n",
       "      <td>138</td>\n",
       "      <td>164</td>\n",
       "      <td>Weight</td>\n",
       "      <td>Home</td>\n",
       "      <td>131.57</td>\n",
       "    </tr>\n",
       "    <tr>\n",
       "      <th>2</th>\n",
       "      <td>161</td>\n",
       "      <td>163</td>\n",
       "      <td>Book</td>\n",
       "      <td>Toys</td>\n",
       "      <td>201.32</td>\n",
       "    </tr>\n",
       "    <tr>\n",
       "      <th>3</th>\n",
       "      <td>67</td>\n",
       "      <td>162</td>\n",
       "      <td>Test</td>\n",
       "      <td>Clothing</td>\n",
       "      <td>453.74</td>\n",
       "    </tr>\n",
       "    <tr>\n",
       "      <th>4</th>\n",
       "      <td>117</td>\n",
       "      <td>160</td>\n",
       "      <td>Political</td>\n",
       "      <td>Clothing</td>\n",
       "      <td>436.68</td>\n",
       "    </tr>\n",
       "  </tbody>\n",
       "</table>\n",
       "</div>"
      ],
      "text/plain": [
       "   product_id  quantity       name     category   price\n",
       "0           8       164     Better  Electronics  486.09\n",
       "1         138       164     Weight         Home  131.57\n",
       "2         161       163       Book         Toys  201.32\n",
       "3          67       162       Test     Clothing  453.74\n",
       "4         117       160  Political     Clothing  436.68"
      ]
     },
     "execution_count": 33,
     "metadata": {},
     "output_type": "execute_result"
    }
   ],
   "source": [
    "top_5_join_product = top_5_product_ids.merge(product_df, on = 'product_id')\n",
    "top_5_join_product"
   ]
  },
  {
   "cell_type": "markdown",
   "id": "917f9d16-ae7f-4cf9-a9a5-42ca1c48fc85",
   "metadata": {},
   "source": [
    "#### Top 5 transactions by number of unique items"
   ]
  },
  {
   "cell_type": "code",
   "execution_count": 37,
   "id": "40721e89-fb1c-4144-b032-e6517ef89263",
   "metadata": {},
   "outputs": [
    {
     "data": {
      "text/html": [
       "<div>\n",
       "<style scoped>\n",
       "    .dataframe tbody tr th:only-of-type {\n",
       "        vertical-align: middle;\n",
       "    }\n",
       "\n",
       "    .dataframe tbody tr th {\n",
       "        vertical-align: top;\n",
       "    }\n",
       "\n",
       "    .dataframe thead th {\n",
       "        text-align: right;\n",
       "    }\n",
       "</style>\n",
       "<table border=\"1\" class=\"dataframe\">\n",
       "  <thead>\n",
       "    <tr style=\"text-align: right;\">\n",
       "      <th></th>\n",
       "      <th>order_id</th>\n",
       "      <th>product_id</th>\n",
       "    </tr>\n",
       "  </thead>\n",
       "  <tbody>\n",
       "    <tr>\n",
       "      <th>12</th>\n",
       "      <td>13</td>\n",
       "      <td>5</td>\n",
       "    </tr>\n",
       "    <tr>\n",
       "      <th>8</th>\n",
       "      <td>9</td>\n",
       "      <td>5</td>\n",
       "    </tr>\n",
       "    <tr>\n",
       "      <th>2480</th>\n",
       "      <td>2481</td>\n",
       "      <td>5</td>\n",
       "    </tr>\n",
       "    <tr>\n",
       "      <th>2478</th>\n",
       "      <td>2479</td>\n",
       "      <td>5</td>\n",
       "    </tr>\n",
       "    <tr>\n",
       "      <th>52</th>\n",
       "      <td>53</td>\n",
       "      <td>5</td>\n",
       "    </tr>\n",
       "  </tbody>\n",
       "</table>\n",
       "</div>"
      ],
      "text/plain": [
       "      order_id  product_id\n",
       "12          13           5\n",
       "8            9           5\n",
       "2480      2481           5\n",
       "2478      2479           5\n",
       "52          53           5"
      ]
     },
     "execution_count": 37,
     "metadata": {},
     "output_type": "execute_result"
    }
   ],
   "source": [
    "transactions_items_df.groupby(\"order_id\")[[\"product_id\"]].aggregate(\"count\").reset_index().sort_values(by=\"product_id\", ascending=False).head(5)"
   ]
  },
  {
   "cell_type": "markdown",
   "id": "1eaa13f4-d368-441a-a2eb-61da3fe89c26",
   "metadata": {},
   "source": [
    "#### Top 5 most popular categories by number of orders"
   ]
  },
  {
   "cell_type": "code",
   "execution_count": 41,
   "id": "bf5f0094-426d-4a06-b291-b3b4bb501ccb",
   "metadata": {},
   "outputs": [
    {
     "data": {
      "text/html": [
       "<div>\n",
       "<style scoped>\n",
       "    .dataframe tbody tr th:only-of-type {\n",
       "        vertical-align: middle;\n",
       "    }\n",
       "\n",
       "    .dataframe tbody tr th {\n",
       "        vertical-align: top;\n",
       "    }\n",
       "\n",
       "    .dataframe thead th {\n",
       "        text-align: right;\n",
       "    }\n",
       "</style>\n",
       "<table border=\"1\" class=\"dataframe\">\n",
       "  <thead>\n",
       "    <tr style=\"text-align: right;\">\n",
       "      <th></th>\n",
       "      <th>category</th>\n",
       "      <th>order_id</th>\n",
       "    </tr>\n",
       "  </thead>\n",
       "  <tbody>\n",
       "    <tr>\n",
       "      <th>1</th>\n",
       "      <td>Clothing</td>\n",
       "      <td>2833</td>\n",
       "    </tr>\n",
       "    <tr>\n",
       "      <th>2</th>\n",
       "      <td>Electronics</td>\n",
       "      <td>2611</td>\n",
       "    </tr>\n",
       "    <tr>\n",
       "      <th>0</th>\n",
       "      <td>Books</td>\n",
       "      <td>2570</td>\n",
       "    </tr>\n",
       "    <tr>\n",
       "      <th>4</th>\n",
       "      <td>Toys</td>\n",
       "      <td>2437</td>\n",
       "    </tr>\n",
       "    <tr>\n",
       "      <th>3</th>\n",
       "      <td>Home</td>\n",
       "      <td>1908</td>\n",
       "    </tr>\n",
       "  </tbody>\n",
       "</table>\n",
       "</div>"
      ],
      "text/plain": [
       "      category  order_id\n",
       "1     Clothing      2833\n",
       "2  Electronics      2611\n",
       "0        Books      2570\n",
       "4         Toys      2437\n",
       "3         Home      1908"
      ]
     },
     "execution_count": 41,
     "metadata": {},
     "output_type": "execute_result"
    }
   ],
   "source": [
    "transactions_items_product_df = transactions_items_df.merge(product_df, on = 'product_id')\n",
    "transactions_items_product_df.groupby(\"category\")[[\"order_id\"]].aggregate(\"count\").reset_index().sort_values(by=\"order_id\", ascending=False).head(5)"
   ]
  },
  {
   "cell_type": "code",
   "execution_count": null,
   "id": "8e8d1d93-b8c5-4b45-bbca-66bb3ddecc21",
   "metadata": {},
   "outputs": [],
   "source": []
  }
 ],
 "metadata": {
  "kernelspec": {
   "display_name": "technical-interview-prep-pandas",
   "language": "python",
   "name": ".venv"
  },
  "language_info": {
   "codemirror_mode": {
    "name": "ipython",
    "version": 3
   },
   "file_extension": ".py",
   "mimetype": "text/x-python",
   "name": "python",
   "nbconvert_exporter": "python",
   "pygments_lexer": "ipython3",
   "version": "3.11.6"
  }
 },
 "nbformat": 4,
 "nbformat_minor": 5
}
